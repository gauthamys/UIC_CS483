{
  "cells": [
    {
      "cell_type": "markdown",
      "metadata": {
        "id": "jzGGkkE8kHR0"
      },
      "source": [
        "# CS 483 Question 2"
      ]
    },
    {
      "cell_type": "code",
      "execution_count": 1,
      "metadata": {
        "colab": {
          "base_uri": "https://localhost:8080/"
        },
        "id": "K7vFRVsusbgy",
        "outputId": "34e63a30-4cbc-4f1c-88cf-7de223bf262d"
      },
      "outputs": [
        {
          "name": "stdout",
          "output_type": "stream",
          "text": [
            "Collecting pyspark\n",
            "  Downloading pyspark-3.5.3.tar.gz (317.3 MB)\n",
            "\u001b[2K     \u001b[90m━━━━━━━━━━━━━━━━━━━━━━━━━━━━━━━━━━━━━━━━\u001b[0m \u001b[32m317.3/317.3 MB\u001b[0m \u001b[31m2.2 MB/s\u001b[0m eta \u001b[36m0:00:00\u001b[0m\n",
            "\u001b[?25h  Preparing metadata (setup.py) ... \u001b[?25l\u001b[?25hdone\n",
            "Requirement already satisfied: py4j==0.10.9.7 in /usr/local/lib/python3.10/dist-packages (from pyspark) (0.10.9.7)\n",
            "Building wheels for collected packages: pyspark\n",
            "  Building wheel for pyspark (setup.py) ... \u001b[?25l\u001b[?25hdone\n",
            "  Created wheel for pyspark: filename=pyspark-3.5.3-py2.py3-none-any.whl size=317840625 sha256=bac6c2d8c0f8ca2cbeb8387ce3af8c431e6d45a1cd0dd23a2c2e47740df4bf23\n",
            "  Stored in directory: /root/.cache/pip/wheels/1b/3a/92/28b93e2fbfdbb07509ca4d6f50c5e407f48dce4ddbda69a4ab\n",
            "Successfully built pyspark\n",
            "Installing collected packages: pyspark\n",
            "Successfully installed pyspark-3.5.3\n",
            "The following additional packages will be installed:\n",
            "  libxtst6 openjdk-8-jre-headless\n",
            "Suggested packages:\n",
            "  openjdk-8-demo openjdk-8-source libnss-mdns fonts-dejavu-extra fonts-nanum fonts-ipafont-gothic\n",
            "  fonts-ipafont-mincho fonts-wqy-microhei fonts-wqy-zenhei fonts-indic\n",
            "The following NEW packages will be installed:\n",
            "  libxtst6 openjdk-8-jdk-headless openjdk-8-jre-headless\n",
            "0 upgraded, 3 newly installed, 0 to remove and 49 not upgraded.\n",
            "Need to get 39.6 MB of archives.\n",
            "After this operation, 144 MB of additional disk space will be used.\n",
            "Selecting previously unselected package libxtst6:amd64.\n",
            "(Reading database ... 123621 files and directories currently installed.)\n",
            "Preparing to unpack .../libxtst6_2%3a1.2.3-1build4_amd64.deb ...\n",
            "Unpacking libxtst6:amd64 (2:1.2.3-1build4) ...\n",
            "Selecting previously unselected package openjdk-8-jre-headless:amd64.\n",
            "Preparing to unpack .../openjdk-8-jre-headless_8u422-b05-1~22.04_amd64.deb ...\n",
            "Unpacking openjdk-8-jre-headless:amd64 (8u422-b05-1~22.04) ...\n",
            "Selecting previously unselected package openjdk-8-jdk-headless:amd64.\n",
            "Preparing to unpack .../openjdk-8-jdk-headless_8u422-b05-1~22.04_amd64.deb ...\n",
            "Unpacking openjdk-8-jdk-headless:amd64 (8u422-b05-1~22.04) ...\n",
            "Setting up libxtst6:amd64 (2:1.2.3-1build4) ...\n",
            "Setting up openjdk-8-jre-headless:amd64 (8u422-b05-1~22.04) ...\n",
            "update-alternatives: using /usr/lib/jvm/java-8-openjdk-amd64/jre/bin/orbd to provide /usr/bin/orbd (orbd) in auto mode\n",
            "update-alternatives: using /usr/lib/jvm/java-8-openjdk-amd64/jre/bin/servertool to provide /usr/bin/servertool (servertool) in auto mode\n",
            "update-alternatives: using /usr/lib/jvm/java-8-openjdk-amd64/jre/bin/tnameserv to provide /usr/bin/tnameserv (tnameserv) in auto mode\n",
            "Setting up openjdk-8-jdk-headless:amd64 (8u422-b05-1~22.04) ...\n",
            "update-alternatives: using /usr/lib/jvm/java-8-openjdk-amd64/bin/clhsdb to provide /usr/bin/clhsdb (clhsdb) in auto mode\n",
            "update-alternatives: using /usr/lib/jvm/java-8-openjdk-amd64/bin/extcheck to provide /usr/bin/extcheck (extcheck) in auto mode\n",
            "update-alternatives: using /usr/lib/jvm/java-8-openjdk-amd64/bin/hsdb to provide /usr/bin/hsdb (hsdb) in auto mode\n",
            "update-alternatives: using /usr/lib/jvm/java-8-openjdk-amd64/bin/idlj to provide /usr/bin/idlj (idlj) in auto mode\n",
            "update-alternatives: using /usr/lib/jvm/java-8-openjdk-amd64/bin/javah to provide /usr/bin/javah (javah) in auto mode\n",
            "update-alternatives: using /usr/lib/jvm/java-8-openjdk-amd64/bin/jhat to provide /usr/bin/jhat (jhat) in auto mode\n",
            "update-alternatives: using /usr/lib/jvm/java-8-openjdk-amd64/bin/jsadebugd to provide /usr/bin/jsadebugd (jsadebugd) in auto mode\n",
            "update-alternatives: using /usr/lib/jvm/java-8-openjdk-amd64/bin/native2ascii to provide /usr/bin/native2ascii (native2ascii) in auto mode\n",
            "update-alternatives: using /usr/lib/jvm/java-8-openjdk-amd64/bin/schemagen to provide /usr/bin/schemagen (schemagen) in auto mode\n",
            "update-alternatives: using /usr/lib/jvm/java-8-openjdk-amd64/bin/wsgen to provide /usr/bin/wsgen (wsgen) in auto mode\n",
            "update-alternatives: using /usr/lib/jvm/java-8-openjdk-amd64/bin/wsimport to provide /usr/bin/wsimport (wsimport) in auto mode\n",
            "update-alternatives: using /usr/lib/jvm/java-8-openjdk-amd64/bin/xjc to provide /usr/bin/xjc (xjc) in auto mode\n",
            "Processing triggers for libc-bin (2.35-0ubuntu3.4) ...\n",
            "/sbin/ldconfig.real: /usr/local/lib/libtbbmalloc_proxy.so.2 is not a symbolic link\n",
            "\n",
            "/sbin/ldconfig.real: /usr/local/lib/libtbbbind_2_5.so.3 is not a symbolic link\n",
            "\n",
            "/sbin/ldconfig.real: /usr/local/lib/libur_adapter_opencl.so.0 is not a symbolic link\n",
            "\n",
            "/sbin/ldconfig.real: /usr/local/lib/libtbbmalloc.so.2 is not a symbolic link\n",
            "\n",
            "/sbin/ldconfig.real: /usr/local/lib/libtbbbind_2_0.so.3 is not a symbolic link\n",
            "\n",
            "/sbin/ldconfig.real: /usr/local/lib/libtbb.so.12 is not a symbolic link\n",
            "\n",
            "/sbin/ldconfig.real: /usr/local/lib/libur_adapter_level_zero.so.0 is not a symbolic link\n",
            "\n",
            "/sbin/ldconfig.real: /usr/local/lib/libur_loader.so.0 is not a symbolic link\n",
            "\n",
            "/sbin/ldconfig.real: /usr/local/lib/libtbbbind.so.3 is not a symbolic link\n",
            "\n"
          ]
        }
      ],
      "source": [
        "!pip install pyspark\n",
        "!pip install -U -q PyDrive\n",
        "!apt install openjdk-8-jdk-headless -qq\n",
        "import os\n",
        "os.environ[\"JAVA_HOME\"] = \"/usr/lib/jvm/java-8-openjdk-amd64\""
      ]
    },
    {
      "cell_type": "code",
      "execution_count": 2,
      "metadata": {
        "id": "pC7HA3dxsebX"
      },
      "outputs": [],
      "source": [
        "import pandas as pd\n",
        "import numpy as np\n",
        "import matplotlib.pyplot as plt\n",
        "%matplotlib inline\n",
        "\n",
        "import pyspark\n",
        "from pyspark.sql import *\n",
        "from pyspark.sql.types import *\n",
        "from pyspark.sql.functions import *\n",
        "from pyspark import SparkContext, SparkConf"
      ]
    },
    {
      "cell_type": "code",
      "execution_count": 3,
      "metadata": {
        "id": "SayYVJXSsmGT"
      },
      "outputs": [],
      "source": [
        "# create the session\n",
        "conf = SparkConf().set(\"spark.ui.port\", \"4050\")\n",
        "\n",
        "# create the context\n",
        "sc = pyspark.SparkContext(conf=conf)\n",
        "spark = SparkSession.builder.getOrCreate()"
      ]
    },
    {
      "cell_type": "code",
      "execution_count": 4,
      "metadata": {
        "colab": {
          "base_uri": "https://localhost:8080/"
        },
        "id": "ILT5jQcat7t9",
        "outputId": "77088404-ae8e-4bce-8933-d010c8dd1a62"
      },
      "outputs": [
        {
          "name": "stderr",
          "output_type": "stream",
          "text": [
            "WARNING:root:pydrive is deprecated and no longer maintained. We recommend that you migrate your projects to pydrive2, the maintained fork of pydrive\n"
          ]
        }
      ],
      "source": [
        "from pydrive.auth import GoogleAuth\n",
        "from pydrive.drive import GoogleDrive\n",
        "from google.colab import auth\n",
        "from oauth2client.client import GoogleCredentials\n",
        "\n",
        "# Authenticate and create the PyDrive client\n",
        "auth.authenticate_user()\n",
        "gauth = GoogleAuth()\n",
        "gauth.credentials = GoogleCredentials.get_application_default()\n",
        "drive = GoogleDrive(gauth)"
      ]
    },
    {
      "cell_type": "code",
      "execution_count": 5,
      "metadata": {
        "id": "VmLA6G4euKZy"
      },
      "outputs": [],
      "source": [
        "# get data.txt and c1.txt and c2.txt\n",
        "id_data='1E-voIV2ctU4Brw022Na8RHVVRGOoNkO1'\n",
        "downloaded_data = drive.CreateFile({'id': id_data})\n",
        "downloaded_data.GetContentFile('data.txt')\n",
        "\n",
        "id_c1='1yXNlZWMqUcAwDScBrkFChOHJwR1FZXmI'\n",
        "downloaded_c1 = drive.CreateFile({'id': id_c1})\n",
        "downloaded_c1.GetContentFile('c1.txt')\n",
        "\n",
        "id_c2='1vfovle9DgaeK0LnbQTH0j7kRaJjsvLtb'\n",
        "downloaded_c2 = drive.CreateFile({'id': id_c2})\n",
        "downloaded_c2.GetContentFile('c2.txt')"
      ]
    },
    {
      "cell_type": "markdown",
      "metadata": {
        "id": "9R03jZ5hvBWP"
      },
      "source": [
        "## Iterative K means with Euclidian distance"
      ]
    },
    {
      "cell_type": "code",
      "execution_count": 6,
      "metadata": {
        "id": "AeDUy18FLNnS"
      },
      "outputs": [],
      "source": [
        "ITERATIONS = 20\n",
        "\n",
        "def euclidian_distance(x, y):\n",
        "  return np.sqrt(np.sum((x-y)**2))\n",
        "\n",
        "def manhattan_distance(x, y):\n",
        "  return np.sum(np.abs(x-y))"
      ]
    },
    {
      "cell_type": "code",
      "execution_count": 7,
      "metadata": {
        "id": "k4LIF0j0u_5J"
      },
      "outputs": [],
      "source": [
        "X = spark.read.text('data.txt').rdd.map(lambda r: r[0]).map(lambda x: np.array([float(i) for i in x.split(' ')]))\n",
        "\n",
        "with open('c1.txt', 'r') as f:\n",
        "  c1 = [(i, v) for i, v in enumerate(np.array([np.array([float(i) for i in line.split(' ')]) for line in f.readlines()]))]\n",
        "\n",
        "with open('c2.txt', 'r') as f:\n",
        "  c2 = [(i, v) for i, v in enumerate(np.array([np.array([float(i) for i in line.split(' ')]) for line in f.readlines()]))]\n"
      ]
    },
    {
      "cell_type": "code",
      "execution_count": 8,
      "metadata": {
        "id": "Yj__fpNBORAp"
      },
      "outputs": [],
      "source": [
        "def find_nearest_centroid(point, centroids, distance_metric):\n",
        "  min_distance = float('inf')\n",
        "  min_centroid = None\n",
        "  for centroid in centroids:\n",
        "    distance = distance_metric(point, centroid[1])\n",
        "    if distance < min_distance:\n",
        "      min_distance = distance\n",
        "      min_centroid = centroid[0]\n",
        "  return (min_centroid, point, min_distance)\n",
        "\n",
        "def compute_centroid(points):\n",
        "  points = np.array(points)\n",
        "  return np.add.reduce(points) / len(points)"
      ]
    },
    {
      "cell_type": "code",
      "execution_count": 9,
      "metadata": {
        "colab": {
          "base_uri": "https://localhost:8080/"
        },
        "id": "ZWcvn2E8O0B0",
        "outputId": "8dacefdd-884d-4e58-8d8a-bea4b5b8709b"
      },
      "outputs": [
        {
          "name": "stdout",
          "output_type": "stream",
          "text": [
            "Iteration 1\n",
            "Cost: 623660345.3064235\n",
            "Iteration 2\n",
            "Cost: 509862908.29754597\n",
            "Iteration 3\n",
            "Cost: 485480681.8720084\n",
            "Iteration 4\n",
            "Cost: 463997011.6850107\n",
            "Iteration 5\n",
            "Cost: 460969266.57299405\n",
            "Iteration 6\n",
            "Cost: 460537847.98277014\n",
            "Iteration 7\n",
            "Cost: 460313099.65354246\n",
            "Iteration 8\n",
            "Cost: 460003523.88940686\n",
            "Iteration 9\n",
            "Cost: 459570539.3177354\n",
            "Iteration 10\n",
            "Cost: 459021103.34229016\n",
            "Iteration 11\n",
            "Cost: 458490656.1919808\n",
            "Iteration 12\n",
            "Cost: 457944232.5879742\n",
            "Iteration 13\n",
            "Cost: 457558005.1986796\n",
            "Iteration 14\n",
            "Cost: 457290136.3523032\n",
            "Iteration 15\n",
            "Cost: 457050555.0595639\n",
            "Iteration 16\n",
            "Cost: 456892235.61535746\n",
            "Iteration 17\n",
            "Cost: 456703630.7370357\n",
            "Iteration 18\n",
            "Cost: 456404203.0189769\n",
            "Iteration 19\n",
            "Cost: 456177800.54199505\n",
            "Iteration 20\n",
            "Cost: 455986871.02734846\n"
          ]
        }
      ],
      "source": [
        "new_centroids = c1\n",
        "costs_c1_euclidian = []\n",
        "\n",
        "for i in range(ITERATIONS):\n",
        "  print(f'Iteration {i+1}')\n",
        "  nearest_centroids = X.map(lambda x: find_nearest_centroid(x, new_centroids, euclidian_distance))\n",
        "  cost = nearest_centroids.map(lambda x: x[2] ** 2).sum()\n",
        "  print(f'Cost: {cost}')\n",
        "  costs_c1_euclidian.append(cost)\n",
        "  new_centroids = nearest_centroids.map(lambda x: (x[0], x[1])).groupByKey().mapValues(lambda x: compute_centroid(list(x))).collect()"
      ]
    },
    {
      "cell_type": "code",
      "execution_count": 10,
      "metadata": {
        "colab": {
          "base_uri": "https://localhost:8080/"
        },
        "id": "H_Id_FCRhV2s",
        "outputId": "566d4523-9798-4e58-e4bc-a972f07e32da"
      },
      "outputs": [
        {
          "name": "stdout",
          "output_type": "stream",
          "text": [
            "Iteration 1\n",
            "Cost: 438747790.027918\n",
            "Iteration 2\n",
            "Cost: 249803933.62600294\n",
            "Iteration 3\n",
            "Cost: 194494814.406314\n",
            "Iteration 4\n",
            "Cost: 169804841.45154336\n",
            "Iteration 5\n",
            "Cost: 156295748.806276\n",
            "Iteration 6\n",
            "Cost: 149094208.10896608\n",
            "Iteration 7\n",
            "Cost: 142508531.61961588\n",
            "Iteration 8\n",
            "Cost: 132303869.40653005\n",
            "Iteration 9\n",
            "Cost: 117170969.8371908\n",
            "Iteration 10\n",
            "Cost: 108547377.17857017\n",
            "Iteration 11\n",
            "Cost: 102237203.31799614\n",
            "Iteration 12\n",
            "Cost: 98278015.74975717\n",
            "Iteration 13\n",
            "Cost: 95630226.12177445\n",
            "Iteration 14\n",
            "Cost: 93793314.05119292\n",
            "Iteration 15\n",
            "Cost: 92377131.96821108\n",
            "Iteration 16\n",
            "Cost: 91541606.25423913\n",
            "Iteration 17\n",
            "Cost: 91045573.83042422\n",
            "Iteration 18\n",
            "Cost: 90752240.10140836\n",
            "Iteration 19\n",
            "Cost: 90470170.18122767\n",
            "Iteration 20\n",
            "Cost: 90216416.17563146\n"
          ]
        }
      ],
      "source": [
        "new_centroids = c2\n",
        "costs_c2_euclidian = []\n",
        "for i in range(ITERATIONS):\n",
        "  print(f'Iteration {i+1}')\n",
        "  nearest_centroids = X.map(lambda x: find_nearest_centroid(x, new_centroids, euclidian_distance))\n",
        "  cost = nearest_centroids.map(lambda x: x[2] ** 2).sum()\n",
        "  print(f'Cost: {cost}')\n",
        "  costs_c2_euclidian.append(cost)\n",
        "  new_centroids = nearest_centroids.map(lambda x: (x[0], x[1])).groupByKey().mapValues(lambda x: compute_centroid(list(x))).collect()"
      ]
    },
    {
      "cell_type": "markdown",
      "metadata": {
        "id": "CVedyIkSvIwA"
      },
      "source": [
        "## Iterative K means with Manhattan distance"
      ]
    },
    {
      "cell_type": "code",
      "execution_count": 11,
      "metadata": {
        "colab": {
          "base_uri": "https://localhost:8080/"
        },
        "id": "tZ8_eFqNvLCh",
        "outputId": "bfbd0e49-c4aa-46df-cd69-53b75c2af28a"
      },
      "outputs": [
        {
          "name": "stdout",
          "output_type": "stream",
          "text": [
            "Iteration 1\n",
            "Cost: 550117.1420000045\n",
            "Iteration 2\n",
            "Cost: 464829.26840394654\n",
            "Iteration 3\n",
            "Cost: 470934.15384668263\n",
            "Iteration 4\n",
            "Cost: 483874.81628509297\n",
            "Iteration 5\n",
            "Cost: 489234.2347883483\n",
            "Iteration 6\n",
            "Cost: 487664.6926267901\n",
            "Iteration 7\n",
            "Cost: 483718.66592851654\n",
            "Iteration 8\n",
            "Cost: 475337.94763305597\n",
            "Iteration 9\n",
            "Cost: 474871.9665496577\n",
            "Iteration 10\n",
            "Cost: 457244.78974174923\n",
            "Iteration 11\n",
            "Cost: 447493.195604051\n",
            "Iteration 12\n",
            "Cost: 450891.8358047716\n",
            "Iteration 13\n",
            "Cost: 451232.5774756949\n",
            "Iteration 14\n",
            "Cost: 451860.12588546367\n",
            "Iteration 15\n",
            "Cost: 451567.2235891512\n",
            "Iteration 16\n",
            "Cost: 452710.0520999444\n",
            "Iteration 17\n",
            "Cost: 453078.22696184984\n",
            "Iteration 18\n",
            "Cost: 450646.13556209754\n",
            "Iteration 19\n",
            "Cost: 450419.97011343326\n",
            "Iteration 20\n",
            "Cost: 449009.59037188475\n"
          ]
        }
      ],
      "source": [
        "new_centroids = c1\n",
        "costs_c1_manhattan = []\n",
        "for i in range(ITERATIONS):\n",
        "  print(f'Iteration {i+1}')\n",
        "  nearest_centroids = X.map(lambda x: find_nearest_centroid(x, new_centroids, manhattan_distance))\n",
        "  cost = nearest_centroids.map(lambda x: x[2]).sum()\n",
        "  print(f'Cost: {cost}')\n",
        "  costs_c1_manhattan.append(cost)\n",
        "  new_centroids = nearest_centroids.map(lambda x: (x[0], x[1])).groupByKey().mapValues(lambda x: compute_centroid(list(x))).collect()"
      ]
    },
    {
      "cell_type": "code",
      "execution_count": 12,
      "metadata": {
        "colab": {
          "base_uri": "https://localhost:8080/"
        },
        "id": "JwFI64oFhOVH",
        "outputId": "688a2a2a-5b36-4f75-8115-9b73e4b489ab"
      },
      "outputs": [
        {
          "name": "stdout",
          "output_type": "stream",
          "text": [
            "Iteration 1\n",
            "Cost: 1433739.3099999938\n",
            "Iteration 2\n",
            "Cost: 1084488.7769648738\n",
            "Iteration 3\n",
            "Cost: 973431.7146620394\n",
            "Iteration 4\n",
            "Cost: 895934.5925630673\n",
            "Iteration 5\n",
            "Cost: 865128.3352940796\n",
            "Iteration 6\n",
            "Cost: 845846.6470313473\n",
            "Iteration 7\n",
            "Cost: 827219.5827561237\n",
            "Iteration 8\n",
            "Cost: 803590.3456011107\n",
            "Iteration 9\n",
            "Cost: 756039.5172761244\n",
            "Iteration 10\n",
            "Cost: 717332.9025432297\n",
            "Iteration 11\n",
            "Cost: 694587.9252526843\n",
            "Iteration 12\n",
            "Cost: 684444.5019967926\n",
            "Iteration 13\n",
            "Cost: 674574.7475478566\n",
            "Iteration 14\n",
            "Cost: 667409.469916026\n",
            "Iteration 15\n",
            "Cost: 663556.6278214998\n",
            "Iteration 16\n",
            "Cost: 660162.777228758\n",
            "Iteration 17\n",
            "Cost: 656041.3222947085\n",
            "Iteration 18\n",
            "Cost: 653036.7540731638\n",
            "Iteration 19\n",
            "Cost: 651112.4262522653\n",
            "Iteration 20\n",
            "Cost: 649689.0131843556\n"
          ]
        }
      ],
      "source": [
        "new_centroids = c2\n",
        "costs_c2_manhattan = []\n",
        "for i in range(ITERATIONS):\n",
        "  print(f'Iteration {i+1}')\n",
        "  nearest_centroids = X.map(lambda x: find_nearest_centroid(x, new_centroids, manhattan_distance))\n",
        "  cost = nearest_centroids.map(lambda x: x[2]).sum()\n",
        "  print(f'Cost: {cost}')\n",
        "  costs_c2_manhattan.append(cost)\n",
        "  new_centroids = nearest_centroids.map(lambda x: (x[0], x[1])).groupByKey().mapValues(lambda x: compute_centroid(list(x))).collect()"
      ]
    },
    {
      "cell_type": "markdown",
      "metadata": {
        "id": "8SFca2juiEsx"
      },
      "source": [
        "## Plots"
      ]
    },
    {
      "cell_type": "code",
      "execution_count": 13,
      "metadata": {
        "colab": {
          "base_uri": "https://localhost:8080/",
          "height": 490
        },
        "id": "mFzm4NXShcMf",
        "outputId": "f41ffce0-640a-4538-c27b-6ac043979b80"
      },
      "outputs": [
        {
          "data": {
            "text/plain": [
              "<matplotlib.legend.Legend at 0x7c92cc2d1d50>"
            ]
          },
          "execution_count": 13,
          "metadata": {},
          "output_type": "execute_result"
        },
        {
          "data": {
            "image/png": "[encoded data removed]",
            "text/plain": [
              "<Figure size 640x480 with 1 Axes>"
            ]
          },
          "metadata": {},
          "output_type": "display_data"
        }
      ],
      "source": [
        "timestamps = [i for i in range(1, ITERATIONS+1)]\n",
        "plt.plot(timestamps, costs_c1_euclidian, label='C1')\n",
        "plt.plot(timestamps, costs_c2_euclidian, label='C2')\n",
        "plt.xlabel('Iteration')\n",
        "plt.ylabel('Cost')\n",
        "plt.title('Cost vs Iteration using euclidian distance')\n",
        "plt.legend()"
      ]
    },
    {
      "cell_type": "code",
      "execution_count": 14,
      "metadata": {
        "colab": {
          "base_uri": "https://localhost:8080/",
          "height": 490
        },
        "id": "8Q5BUjsmiRuZ",
        "outputId": "4ea539d7-3404-4237-f5e7-0bd455ba3f3b"
      },
      "outputs": [
        {
          "data": {
            "text/plain": [
              "<matplotlib.legend.Legend at 0x7c92cc237160>"
            ]
          },
          "execution_count": 14,
          "metadata": {},
          "output_type": "execute_result"
        },
        {
          "data": {
            "image/png": "[encoded data removed]",
            "text/plain": [
              "<Figure size 640x480 with 1 Axes>"
            ]
          },
          "metadata": {},
          "output_type": "display_data"
        }
      ],
      "source": [
        "timestamps = [i for i in range(1, ITERATIONS+1)]\n",
        "plt.plot(timestamps, costs_c1_manhattan, label='C1')\n",
        "plt.plot(timestamps, costs_c2_manhattan, label='C2')\n",
        "plt.xlabel('Iteration')\n",
        "plt.ylabel('Cost')\n",
        "plt.title('Cost vs Iteration using manhattan distance')\n",
        "plt.legend()"
      ]
    },
    {
      "cell_type": "markdown",
      "metadata": {
        "id": "YDFUHEsFj0Dl"
      },
      "source": [
        "## % cost change"
      ]
    },
    {
      "cell_type": "code",
      "execution_count": 15,
      "metadata": {
        "colab": {
          "base_uri": "https://localhost:8080/"
        },
        "id": "zvdz2vxdjDBN",
        "outputId": "5f5d7bb7-3a45-487e-cba5-fe28ef573ba6"
      },
      "outputs": [
        {
          "data": {
            "text/plain": [
              "26.398863292044172"
            ]
          },
          "execution_count": 15,
          "metadata": {},
          "output_type": "execute_result"
        }
      ],
      "source": [
        "((costs_c1_euclidian[0] - costs_c1_euclidian[9]) / costs_c1_euclidian[0]) * 100"
      ]
    },
    {
      "cell_type": "code",
      "execution_count": 16,
      "metadata": {
        "colab": {
          "base_uri": "https://localhost:8080/"
        },
        "id": "Z52SmGVHj9c7",
        "outputId": "0d1a9c4c-f3f1-4b5c-ef00-984d5549d909"
      },
      "outputs": [
        {
          "data": {
            "text/plain": [
              "75.25973243724756"
            ]
          },
          "execution_count": 16,
          "metadata": {},
          "output_type": "execute_result"
        }
      ],
      "source": [
        "((costs_c2_euclidian[0] - costs_c2_euclidian[9]) / costs_c2_euclidian[0]) * 100"
      ]
    },
    {
      "cell_type": "code",
      "execution_count": 17,
      "metadata": {
        "colab": {
          "base_uri": "https://localhost:8080/"
        },
        "id": "IcJpRVAEoNvW",
        "outputId": "b3b6887e-c3d2-42fb-86ba-48c9e83afe60"
      },
      "outputs": [
        {
          "data": {
            "text/plain": [
              "16.882286547299508"
            ]
          },
          "execution_count": 17,
          "metadata": {},
          "output_type": "execute_result"
        }
      ],
      "source": [
        "((costs_c1_manhattan[0] - costs_c1_manhattan[9]) / costs_c1_manhattan[0]) * 100"
      ]
    },
    {
      "cell_type": "code",
      "execution_count": 18,
      "metadata": {
        "colab": {
          "base_uri": "https://localhost:8080/"
        },
        "id": "vzyeycEGoUIb",
        "outputId": "9129e858-bea3-45b9-df43-fc7ebbfe3a8d"
      },
      "outputs": [
        {
          "data": {
            "text/plain": [
              "49.96768955555576"
            ]
          },
          "execution_count": 18,
          "metadata": {},
          "output_type": "execute_result"
        }
      ],
      "source": [
        "((costs_c2_manhattan[0] - costs_c2_manhattan[9]) / costs_c2_manhattan[0]) * 100"
      ]
    }
  ],
  "metadata": {
    "colab": {
      "provenance": []
    },
    "kernelspec": {
      "display_name": "Python 3",
      "name": "python3"
    },
    "language_info": {
      "name": "python"
    }
  },
  "nbformat": 4,
  "nbformat_minor": 0
}
